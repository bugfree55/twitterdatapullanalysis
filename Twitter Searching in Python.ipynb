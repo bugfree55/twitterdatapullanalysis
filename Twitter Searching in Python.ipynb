{
 "cells": [
  {
   "cell_type": "markdown",
   "id": "41db7d4b",
   "metadata": {},
   "source": [
    "# Activity 1\n",
    "Import data from vega datasets for use in the first two activities"
   ]
  },
  {
   "cell_type": "code",
   "execution_count": 2,
   "id": "0d95e2d4",
   "metadata": {},
   "outputs": [],
   "source": [
    "#!pip install TwitterSearch\n",
    "from TwitterSearch import *\n",
    "import pandas as pd\n",
    "import matplotlib.pyplot as plt"
   ]
  },
  {
   "cell_type": "markdown",
   "id": "2c9c84a7",
   "metadata": {},
   "source": [
    "### My Twitter API keys"
   ]
  },
  {
   "cell_type": "code",
   "execution_count": 3,
   "id": "669c4cc2",
   "metadata": {},
   "outputs": [],
   "source": [
    "apikey =\"rV8K9oSYLZPyzRwetRNKMrfbq\"\n",
    "apisecret = \"t5Fthw8yi9pO9rJmhlQ4EpoPzdmTX3fjiVbqFCeDN59HSeAQR1\"\n",
    "accesstoken =\"711243412285104128-qcNLtH7dDlkZIM5xwicBagh7iOiloGz\"\n",
    "accesstokensecret = \"Zquh3OAu2ZeKUM40qNBCyZmz9hykh09SG05pslQG6iqiD\""
   ]
  },
  {
   "cell_type": "markdown",
   "id": "7aa5810a",
   "metadata": {},
   "source": [
    "### Get tweets about US Elections"
   ]
  },
  {
   "cell_type": "code",
   "execution_count": 4,
   "id": "facecdcb",
   "metadata": {},
   "outputs": [
    {
     "name": "stdout",
     "output_type": "stream",
     "text": [
      "Max tweets to retrieve are 3000\n",
      "%%%%%%%%%%%%%%%%%%%%%%%%%%%%%%"
     ]
    }
   ],
   "source": [
    "try:\n",
    "    so = TwitterSearchOrder() # Twitter Searcher\n",
    "    so.set_keywords(['US elections']) # Create a list of words to look for\n",
    "    so.set_include_entities(False) # reduce entity info\n",
    "    so.set_language('en') # english only\n",
    "    \n",
    "\n",
    "    # create a twitter search object\n",
    "    twittersearch = TwitterSearch(\n",
    "        consumer_key = apikey,\n",
    "        consumer_secret =apisecret ,\n",
    "        access_token = accesstoken,\n",
    "        access_token_secret = accesstokensecret\n",
    "     )\n",
    "\n",
    "    \n",
    "    # create dataframe\n",
    "    df = pd.DataFrame()\n",
    "    tweets = []\n",
    "    usernames = []\n",
    "    count = 3000\n",
    "    index =1\n",
    "    print(f\"Max tweets to retrieve are {count}\")\n",
    "    for t in twittersearch.search_tweets_iterable(so):\n",
    "        # append the tweets and usernames\n",
    "        usernames.append(t['user']['screen_name']) # get username\n",
    "        tweets.append(t['text'])\n",
    "        index +=1\n",
    "        if index % 100 == 0:\n",
    "            print(\"%\",end=\"\")\n",
    "        if index >= count:\n",
    "            break\n",
    "    \n",
    "    df['tweets'] = tweets\n",
    "    df['users'] = usernames\n",
    "\n",
    "except TwitterSearchException as e: # Handle errors to prevent crashing\n",
    "    print(e)"
   ]
  },
  {
   "cell_type": "code",
   "execution_count": 5,
   "id": "8b2289d1",
   "metadata": {},
   "outputs": [
    {
     "name": "stdout",
     "output_type": "stream",
     "text": [
      "tweets    RT @marklevinshow: 2. he doesn’t have a snowba...\n",
      "users                                            JoyceBruns\n",
      "Name: 0, dtype: object\n"
     ]
    }
   ],
   "source": [
    "print(df.iloc[0])\n"
   ]
  },
  {
   "cell_type": "code",
   "execution_count": 6,
   "id": "4ab10a6a",
   "metadata": {},
   "outputs": [
    {
     "data": {
      "text/html": [
       "<div>\n",
       "<style scoped>\n",
       "    .dataframe tbody tr th:only-of-type {\n",
       "        vertical-align: middle;\n",
       "    }\n",
       "\n",
       "    .dataframe tbody tr th {\n",
       "        vertical-align: top;\n",
       "    }\n",
       "\n",
       "    .dataframe thead th {\n",
       "        text-align: right;\n",
       "    }\n",
       "</style>\n",
       "<table border=\"1\" class=\"dataframe\">\n",
       "  <thead>\n",
       "    <tr style=\"text-align: right;\">\n",
       "      <th></th>\n",
       "      <th>tweets</th>\n",
       "      <th>users</th>\n",
       "    </tr>\n",
       "  </thead>\n",
       "  <tbody>\n",
       "    <tr>\n",
       "      <th>0</th>\n",
       "      <td>RT @marklevinshow: 2. he doesn’t have a snowba...</td>\n",
       "      <td>JoyceBruns</td>\n",
       "    </tr>\n",
       "    <tr>\n",
       "      <th>1</th>\n",
       "      <td>RT @marklevinshow: 2. he doesn’t have a snowba...</td>\n",
       "      <td>RobbieDouros1</td>\n",
       "    </tr>\n",
       "    <tr>\n",
       "      <th>2</th>\n",
       "      <td>RT @marklevinshow: 2. he doesn’t have a snowba...</td>\n",
       "      <td>squeen4ever</td>\n",
       "    </tr>\n",
       "    <tr>\n",
       "      <th>3</th>\n",
       "      <td>RT @marklevinshow: 2. he doesn’t have a snowba...</td>\n",
       "      <td>ruetday</td>\n",
       "    </tr>\n",
       "    <tr>\n",
       "      <th>4</th>\n",
       "      <td>@RealJamesWoods Come on, man! US elections are...</td>\n",
       "      <td>JKernerOT</td>\n",
       "    </tr>\n",
       "  </tbody>\n",
       "</table>\n",
       "</div>"
      ],
      "text/plain": [
       "                                              tweets          users\n",
       "0  RT @marklevinshow: 2. he doesn’t have a snowba...     JoyceBruns\n",
       "1  RT @marklevinshow: 2. he doesn’t have a snowba...  RobbieDouros1\n",
       "2  RT @marklevinshow: 2. he doesn’t have a snowba...    squeen4ever\n",
       "3  RT @marklevinshow: 2. he doesn’t have a snowba...        ruetday\n",
       "4  @RealJamesWoods Come on, man! US elections are...      JKernerOT"
      ]
     },
     "execution_count": 6,
     "metadata": {},
     "output_type": "execute_result"
    }
   ],
   "source": [
    "## Save to CSV\n",
    "df.to_csv(\"twitterdata_US elections.csv\")\n",
    "df.head()"
   ]
  },
  {
   "cell_type": "code",
   "execution_count": 7,
   "id": "111cd1ab",
   "metadata": {},
   "outputs": [
    {
     "name": "stdout",
     "output_type": "stream",
     "text": [
      "Unique users: 2661\n",
      "Number of tweets: 2999\n"
     ]
    }
   ],
   "source": [
    "users = df['users'].unique()\n",
    "print(f\"Unique users: {len(list(users))}\")\n",
    "print(f\"Number of tweets: {len(df)}\")"
   ]
  },
  {
   "cell_type": "markdown",
   "id": "deae6a85",
   "metadata": {},
   "source": [
    "### construct our data frame for all the users and the number of times they tweeted the words"
   ]
  },
  {
   "cell_type": "code",
   "execution_count": 8,
   "id": "9c707f8a",
   "metadata": {},
   "outputs": [],
   "source": [
    "# construct our data frame for all the users\n",
    "dfusers = pd.DataFrame()\n",
    "dfusers['user'] = list(users)\n",
    "\n",
    "tweets = []\n",
    "for x in range(len(dfusers)):\n",
    "    username = dfusers['user'].iloc[x]\n",
    "    tweets.append(len(df[df['users']==username]))\n",
    "\n",
    "dfusers['tweets'] = tweets"
   ]
  },
  {
   "cell_type": "markdown",
   "id": "b3b864b3",
   "metadata": {},
   "source": [
    "### Create Bar plot"
   ]
  },
  {
   "cell_type": "code",
   "execution_count": 9,
   "id": "7d2a2c27",
   "metadata": {
    "scrolled": true
   },
   "outputs": [
    {
     "data": {
      "text/plain": [
       "[<matplotlib.lines.Line2D at 0x202abdcc160>]"
      ]
     },
     "execution_count": 9,
     "metadata": {},
     "output_type": "execute_result"
    },
    {
     "data": {
      "image/png": "[encoded data removed]",
      "text/plain": [
       "<Figure size 640x480 with 1 Axes>"
      ]
     },
     "metadata": {},
     "output_type": "display_data"
    }
   ],
   "source": [
    "plt.plot(dfusers['tweets'])"
   ]
  },
  {
   "cell_type": "markdown",
   "id": "43aeacbf",
   "metadata": {},
   "source": [
    "### Create Scatter plot"
   ]
  },
  {
   "cell_type": "code",
   "execution_count": 16,
   "id": "da5de94f-2595-4396-a613-c10adadc7ed6",
   "metadata": {},
   "outputs": [
    {
     "data": {
      "text/html": [
       "<div>\n",
       "<style scoped>\n",
       "    .dataframe tbody tr th:only-of-type {\n",
       "        vertical-align: middle;\n",
       "    }\n",
       "\n",
       "    .dataframe tbody tr th {\n",
       "        vertical-align: top;\n",
       "    }\n",
       "\n",
       "    .dataframe thead th {\n",
       "        text-align: right;\n",
       "    }\n",
       "</style>\n",
       "<table border=\"1\" class=\"dataframe\">\n",
       "  <thead>\n",
       "    <tr style=\"text-align: right;\">\n",
       "      <th></th>\n",
       "      <th>tweets</th>\n",
       "    </tr>\n",
       "  </thead>\n",
       "  <tbody>\n",
       "    <tr>\n",
       "      <th>count</th>\n",
       "      <td>2661.000000</td>\n",
       "    </tr>\n",
       "    <tr>\n",
       "      <th>mean</th>\n",
       "      <td>1.127020</td>\n",
       "    </tr>\n",
       "    <tr>\n",
       "      <th>std</th>\n",
       "      <td>0.971215</td>\n",
       "    </tr>\n",
       "    <tr>\n",
       "      <th>min</th>\n",
       "      <td>1.000000</td>\n",
       "    </tr>\n",
       "    <tr>\n",
       "      <th>25%</th>\n",
       "      <td>1.000000</td>\n",
       "    </tr>\n",
       "    <tr>\n",
       "      <th>50%</th>\n",
       "      <td>1.000000</td>\n",
       "    </tr>\n",
       "    <tr>\n",
       "      <th>75%</th>\n",
       "      <td>1.000000</td>\n",
       "    </tr>\n",
       "    <tr>\n",
       "      <th>max</th>\n",
       "      <td>33.000000</td>\n",
       "    </tr>\n",
       "  </tbody>\n",
       "</table>\n",
       "</div>"
      ],
      "text/plain": [
       "            tweets\n",
       "count  2661.000000\n",
       "mean      1.127020\n",
       "std       0.971215\n",
       "min       1.000000\n",
       "25%       1.000000\n",
       "50%       1.000000\n",
       "75%       1.000000\n",
       "max      33.000000"
      ]
     },
     "execution_count": 16,
     "metadata": {},
     "output_type": "execute_result"
    }
   ],
   "source": [
    "dfusers.describe()"
   ]
  },
  {
   "cell_type": "code",
   "execution_count": 10,
   "id": "9b146df8",
   "metadata": {},
   "outputs": [
    {
     "data": {
      "text/plain": [
       "<matplotlib.collections.PathCollection at 0x202ac654a60>"
      ]
     },
     "execution_count": 10,
     "metadata": {},
     "output_type": "execute_result"
    },
    {
     "data": {
      "image/png": "[encoded data removed]",
      "text/plain": [
       "<Figure size 640x480 with 1 Axes>"
      ]
     },
     "metadata": {},
     "output_type": "display_data"
    }
   ],
   "source": [
    "#plot scatter\n",
    "plt.scatter(dfusers['user'],dfusers['tweets'])"
   ]
  },
  {
   "cell_type": "markdown",
   "id": "0a9e436f",
   "metadata": {},
   "source": [
    "### Create Histogram"
   ]
  },
  {
   "cell_type": "code",
   "execution_count": 11,
   "id": "aab7c2f4",
   "metadata": {},
   "outputs": [
    {
     "data": {
      "text/plain": [
       "(array([2.651e+03, 5.000e+00, 3.000e+00, 0.000e+00, 0.000e+00, 0.000e+00,\n",
       "        0.000e+00, 0.000e+00, 0.000e+00, 2.000e+00]),\n",
       " array([ 1. ,  4.2,  7.4, 10.6, 13.8, 17. , 20.2, 23.4, 26.6, 29.8, 33. ]),\n",
       " <BarContainer object of 10 artists>)"
      ]
     },
     "execution_count": 11,
     "metadata": {},
     "output_type": "execute_result"
    },
    {
     "data": {
      "image/png": "[encoded data removed]",
      "text/plain": [
       "<Figure size 640x480 with 1 Axes>"
      ]
     },
     "metadata": {},
     "output_type": "display_data"
    }
   ],
   "source": [
    "plt.hist(dfusers['tweets'])"
   ]
  },
  {
   "cell_type": "markdown",
   "id": "fcc7d32c",
   "metadata": {},
   "source": [
    "From the above output most users tweet only 1 time\n",
    "### Showing the User with most Tweets about Ukraine"
   ]
  },
  {
   "cell_type": "code",
   "execution_count": 12,
   "id": "da4f4aa8",
   "metadata": {},
   "outputs": [
    {
     "data": {
      "text/plain": [
       "user      zsoozska\n",
       "tweets          33\n",
       "dtype: object"
      ]
     },
     "execution_count": 12,
     "metadata": {},
     "output_type": "execute_result"
    }
   ],
   "source": [
    "# show most tweeting users\n",
    "dfusers[dfusers['tweets']>1].max()"
   ]
  },
  {
   "cell_type": "code",
   "execution_count": null,
   "id": "56a56a67",
   "metadata": {},
   "outputs": [],
   "source": []
  }
 ],
 "metadata": {
  "kernelspec": {
   "display_name": "Python 3 (ipykernel)",
   "language": "python",
   "name": "python3"
  },
  "language_info": {
   "codemirror_mode": {
    "name": "ipython",
    "version": 3
   },
   "file_extension": ".py",
   "mimetype": "text/x-python",
   "name": "python",
   "nbconvert_exporter": "python",
   "pygments_lexer": "ipython3",
   "version": "3.9.13"
  }
 },
 "nbformat": 4,
 "nbformat_minor": 5
}
